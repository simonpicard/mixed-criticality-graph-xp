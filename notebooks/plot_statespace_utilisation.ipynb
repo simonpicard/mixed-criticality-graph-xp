{
 "cells": [
  {
   "cell_type": "code",
   "execution_count": null,
   "metadata": {},
   "outputs": [],
   "source": [
    "import os\n",
    "from datetime import datetime\n",
    "\n",
    "import matplotlib.pyplot as plt\n",
    "import matplotlib.ticker as mtick\n",
    "import numpy as np\n",
    "import pandas as pd\n",
    "import seaborn as sns\n",
    "from util import prepare_df"
   ]
  },
  {
   "cell_type": "code",
   "execution_count": null,
   "metadata": {},
   "outputs": [],
   "source": [
    "df = prepare_df(xp_identifier=\"utilisation_statespace\")"
   ]
  },
  {
   "cell_type": "code",
   "execution_count": null,
   "metadata": {},
   "outputs": [],
   "source": [
    "%config InlineBackend.print_figure_kwargs={'facecolor' : \"w\"}\n",
    "task_palette = sns.color_palette(\"deep\", int(df[\"n_task\"].unique().shape[0]))\n",
    "sns.set_theme(style=\"whitegrid\", palette=\"deep\")"
   ]
  },
  {
   "cell_type": "code",
   "execution_count": null,
   "metadata": {},
   "outputs": [],
   "source": [
    "s = df.shape[0] * [True]\n",
    "df_plot = df.loc[s]\n",
    "df_piv = df_plot.copy().pivot(\n",
    "    index=\"tid\",\n",
    "    columns=\"search_type\",\n",
    "    values=[\"duration_s\", \"n_visited\", \"schedulable\", \"nbt\", \"U\"],\n",
    ")\n",
    "df_piv.columns = list(map(lambda x: \"_\".join(x), df_piv.columns))\n",
    "df_piv[\"n_visited_ratio\"] = (\n",
    "    (df_piv[\"n_visited_ACBFS\"] / df_piv[\"n_visited_BFS\"]) - 1\n",
    ") * 100\n",
    "df_piv[\"duration_s_ratio\"] = (\n",
    "    (df_piv[\"duration_s_ACBFS\"] / df_piv[\"duration_s_BFS\"]) - 1\n",
    ") * 100\n",
    "\n",
    "df_piv.rename(columns={\"nbt_BFS\": \"Number of tasks\"}, inplace=True)\n",
    "df_piv.rename(columns={\"schedulable_ACBFS\": \"Schedulable\"}, inplace=True)\n",
    "df_piv.rename(columns={\"U_ACBFS\": \"Utilisation\"}, inplace=True)"
   ]
  },
  {
   "cell_type": "code",
   "execution_count": null,
   "metadata": {},
   "outputs": [],
   "source": [
    "def fmt_percent(x, *args):\n",
    "    return (\"+\" if x > 0 else \"\") + f\"{x:.0f}%\"\n",
    "\n",
    "\n",
    "def fmt_percent_100(x, *args):\n",
    "    return f\"{x*100:.0f}%\""
   ]
  },
  {
   "cell_type": "code",
   "execution_count": null,
   "metadata": {},
   "outputs": [],
   "source": [
    "f, axs = plt.subplots(1, 2, figsize=(12, 5.5129))\n",
    "\n",
    "ax_reduc = axs[0]\n",
    "ax_sched = axs[1]\n",
    "\n",
    "sns.lineplot(\n",
    "    data=df_piv,\n",
    "    x=\"Utilisation\",\n",
    "    y=\"n_visited_ratio\",\n",
    "    errorbar=None,\n",
    "    ax=ax_reduc,\n",
    "    label=\"Number of visited states before halt\",\n",
    "    marker=\"o\",\n",
    ")\n",
    "sns.lineplot(\n",
    "    data=df_piv,\n",
    "    x=\"Utilisation\",\n",
    "    y=\"duration_s_ratio\",\n",
    "    errorbar=None,\n",
    "    ax=ax_reduc,\n",
    "    label=\"Execution time\",\n",
    "    linestyle=\"dashed\",\n",
    "    marker=\"o\",\n",
    ")\n",
    "sns.lineplot(\n",
    "    data=df_piv,\n",
    "    x=\"Utilisation\",\n",
    "    y=\"Schedulable\",\n",
    "    errorbar=None,\n",
    "    ax=ax_sched,\n",
    "    marker=\"o\",\n",
    ")\n",
    "\n",
    "ax_reduc.yaxis.set_major_formatter(fmt_percent)\n",
    "ax_sched.yaxis.set_major_formatter(fmt_percent_100)\n",
    "ax_reduc.xaxis.set_major_formatter(fmt_percent_100)\n",
    "ax_sched.xaxis.set_major_formatter(fmt_percent_100)\n",
    "\n",
    "ax_reduc.set_ylabel(\"Relative change\")\n",
    "ax_sched.set_ylabel(\"Acceptance ratio\")\n",
    "\n",
    "ax_reduc.set_xlabel(\"Average utilisation\")\n",
    "ax_sched.set_xlabel(\"Average utilisation\")\n",
    "\n",
    "f.savefig(\n",
    "    f\"./{datetime.now().strftime('%Y%m%d_%H%M%S')}-statespace-utilisation.pdf\",\n",
    "    bbox_inches=\"tight\",\n",
    ")"
   ]
  },
  {
   "cell_type": "code",
   "execution_count": null,
   "metadata": {},
   "outputs": [],
   "source": [
    "df_piv[\"n_visited_ratio\"].median()"
   ]
  },
  {
   "cell_type": "code",
   "execution_count": null,
   "metadata": {},
   "outputs": [],
   "source": [
    "df_piv[\"duration_s_ratio\"].median()"
   ]
  },
  {
   "cell_type": "code",
   "execution_count": null,
   "metadata": {},
   "outputs": [],
   "source": []
  }
 ],
 "metadata": {
  "kernelspec": {
   "display_name": "Python 3 (ipykernel)",
   "language": "python",
   "name": "python3"
  },
  "language_info": {
   "codemirror_mode": {
    "name": "ipython",
    "version": 3
   },
   "file_extension": ".py",
   "mimetype": "text/x-python",
   "name": "python",
   "nbconvert_exporter": "python",
   "pygments_lexer": "ipython3",
   "version": "3.9.12"
  },
  "vscode": {
   "interpreter": {
    "hash": "62c5e80c219e2b83cd55df7cad6caf944097e7bbdaa14d1d255be04d1b1730c1"
   }
  }
 },
 "nbformat": 4,
 "nbformat_minor": 4
}
