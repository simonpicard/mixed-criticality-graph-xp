{
 "cells": [
  {
   "cell_type": "code",
   "execution_count": null,
   "metadata": {},
   "outputs": [],
   "source": [
    "import os\n",
    "from datetime import datetime\n",
    "\n",
    "import matplotlib.pyplot as plt\n",
    "import numpy as np\n",
    "import pandas as pd\n",
    "import seaborn as sns\n",
    "from util import prepare_df"
   ]
  },
  {
   "cell_type": "code",
   "execution_count": null,
   "metadata": {},
   "outputs": [],
   "source": [
    "df = prepare_df(\n",
    "    \"../outputs/20240213_185829_utilisation_header.csv\",\n",
    "    \"../outputs/20240213_185829_utilisation_statespace_explo.csv\",\n",
    ")"
   ]
  },
  {
   "cell_type": "code",
   "execution_count": null,
   "metadata": {},
   "outputs": [],
   "source": [
    "%config InlineBackend.print_figure_kwargs={'facecolor' : \"w\"}\n",
    "task_palette = sns.color_palette(\"deep\", int(df[\"n_task\"].unique().shape[0]))\n",
    "sns.set_theme(style=\"white\", palette=\"deep\")"
   ]
  },
  {
   "cell_type": "code",
   "execution_count": null,
   "metadata": {},
   "outputs": [],
   "source": [
    "s = df.shape[0] * [True]\n",
    "df_plot = df.loc[s]\n",
    "df_piv = df_plot.copy().pivot(\n",
    "    index=\"tid\",\n",
    "    columns=\"search_type\",\n",
    "    values=[\"duration_s\", \"n_visited\", \"schedulable\", \"nbt\", \"U\"],\n",
    ")\n",
    "df_piv.columns = list(map(lambda x: \"_\".join(x), df_piv.columns))\n",
    "df_piv[\"n_visted_ratio\"] = df_piv[\"n_visited_ACBFS\"] / df_piv[\"n_visited_BFS\"]\n",
    "\n",
    "df_piv.rename(columns={\"nbt_BFS\": \"Number of tasks\"}, inplace=True)\n",
    "df_piv.rename(columns={\"schedulable_ACBFS\": \"Schedulable\"}, inplace=True)\n",
    "df_piv.rename(columns={\"U_ACBFS\": \"Utilisation\"}, inplace=True)"
   ]
  },
  {
   "cell_type": "code",
   "execution_count": null,
   "metadata": {},
   "outputs": [],
   "source": [
    "f, axs = plt.subplots(1, 2, figsize=(12, 5.5129))\n",
    "\n",
    "ax_reduc = axs[0]\n",
    "ax_sched = axs[1]\n",
    "\n",
    "sns.lineplot(\n",
    "    data=df_piv, x=\"Utilisation\", y=\"n_visted_ratio\", errorbar=None, ax=ax_reduc\n",
    ")\n",
    "sns.lineplot(data=df_piv, x=\"Utilisation\", y=\"Schedulable\", errorbar=None, ax=ax_sched)\n",
    "\n",
    "ax_reduc.set_ylabel(\"State reduction ratio\")\n",
    "ax_sched.set_ylabel(\"Acceptance ratio\")\n",
    "\n",
    "f.savefig(\n",
    "    f\"./{datetime.now().strftime('%Y%m%d_%H%M%S')}-reduction-accpetance-utilisation.pdf\"\n",
    ")"
   ]
  }
 ],
 "metadata": {
  "kernelspec": {
   "display_name": "Python 3 (ipykernel)",
   "language": "python",
   "name": "python3"
  },
  "language_info": {
   "codemirror_mode": {
    "name": "ipython",
    "version": 3
   },
   "file_extension": ".py",
   "mimetype": "text/x-python",
   "name": "python",
   "nbconvert_exporter": "python",
   "pygments_lexer": "ipython3",
   "version": "3.9.12"
  },
  "vscode": {
   "interpreter": {
    "hash": "62c5e80c219e2b83cd55df7cad6caf944097e7bbdaa14d1d255be04d1b1730c1"
   }
  }
 },
 "nbformat": 4,
 "nbformat_minor": 4
}
