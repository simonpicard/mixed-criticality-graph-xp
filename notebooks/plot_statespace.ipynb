{
 "cells": [
  {
   "cell_type": "code",
   "execution_count": null,
   "metadata": {},
   "outputs": [],
   "source": [
    "import matplotlib.pyplot as plt\n",
    "import numpy as np\n",
    "import seaborn as sns\n",
    "from util import prepare_df"
   ]
  },
  {
   "cell_type": "code",
   "execution_count": null,
   "metadata": {},
   "outputs": [],
   "source": [
    "%config InlineBackend.print_figure_kwargs={'facecolor' : \"w\"}\n",
    "sns.set()\n",
    "sns.set(rc={\"figure.figsize\": (11.7, 8.27)})\n",
    "\n",
    "task_palette = sns.color_palette(\"Set1\")"
   ]
  },
  {
   "cell_type": "code",
   "execution_count": null,
   "metadata": {},
   "outputs": [],
   "source": [
    "df = prepare_df(\n",
    "    \"../outputs/20240205_000224_xp_tasks_small_header.csv\",\n",
    "    \"../outputs/20240205_000224_xp_tasks_small_sim.csv\",\n",
    ")"
   ]
  },
  {
   "cell_type": "code",
   "execution_count": null,
   "metadata": {},
   "outputs": [],
   "source": [
    "task_palette = sns.color_palette(\"Set1\", int(df[\"n_task\"].unique().shape[0]))"
   ]
  },
  {
   "cell_type": "code",
   "execution_count": null,
   "metadata": {},
   "outputs": [],
   "source": [
    "s = df.shape[0] * [True]\n",
    "df_plot = df.loc[s]\n",
    "df_piv = df_plot.copy().pivot(\n",
    "    index=\"tid\",\n",
    "    columns=\"search_type\",\n",
    "    values=[\"duration_s\", \"n_visited\", \"schedulable\", \"nbt\"],\n",
    ")\n",
    "df_piv.columns = list(map(lambda x: \"_\".join(x), df_piv.columns))\n",
    "\n",
    "\n",
    "df_piv.rename(columns={\"nbt_BFS\": \"Number of tasks\"}, inplace=True)\n",
    "df_piv.rename(columns={\"schedulable_ACBFS\": \"Schedulable\"}, inplace=True)\n",
    "\n",
    "f, ax = plt.subplots(figsize=(12, 12))\n",
    "\n",
    "sns.scatterplot(\n",
    "    data=df_piv,\n",
    "    x=\"n_visited_BFS\",\n",
    "    y=\"n_visited_ACBFS\",\n",
    "    style=\"Schedulable\",\n",
    "    hue=\"Number of tasks\",\n",
    "    ax=ax,\n",
    "    palette=task_palette,\n",
    ")\n",
    "ax.set(xscale=\"log\", yscale=\"log\")\n",
    "ax.axis(\"equal\")\n",
    "\n",
    "lims = [\n",
    "    10**0,\n",
    "    np.max([ax.get_xlim(), ax.get_ylim()]),  # max of both axes\n",
    "]\n",
    "\n",
    "# now plot both limits against eachother\n",
    "ax.plot(lims, lims, \"k-\", alpha=0.75, zorder=1)\n",
    "\n",
    "ax.set(xlim=lims, ylim=lims)\n",
    "\n",
    "ax.set_xlabel(\"Number of state visited with BFS\")\n",
    "ax.set_ylabel(\"Number of state visited with ACBFS\")"
   ]
  },
  {
   "cell_type": "code",
   "execution_count": null,
   "metadata": {},
   "outputs": [],
   "source": [
    "s = df.shape[0] * [True]\n",
    "df_plot = df.loc[s]\n",
    "df_piv = df_plot.copy().pivot(\n",
    "    index=\"tid\",\n",
    "    columns=\"search_type\",\n",
    "    values=[\"duration_s\", \"n_visited\", \"schedulable\", \"nbt\"],\n",
    ")\n",
    "df_piv.columns = list(map(lambda x: \"_\".join(x), df_piv.columns))\n",
    "df_piv[\"n_visted_ratio\"] = df_piv[\"n_visited_ACBFS\"] / df_piv[\"n_visited_BFS\"]\n",
    "\n",
    "sns.displot(data=df_piv, x=\"n_visted_ratio\", kde=True)"
   ]
  },
  {
   "cell_type": "code",
   "execution_count": null,
   "metadata": {},
   "outputs": [],
   "source": [
    "s = df.shape[0] * [True]\n",
    "df_plot = df.loc[s]\n",
    "df_piv = df_plot.copy().pivot(\n",
    "    index=\"tid\",\n",
    "    columns=\"search_type\",\n",
    "    values=[\"duration_s\", \"n_visited\", \"schedulable\", \"nbt\"],\n",
    ")\n",
    "df_piv.columns = list(map(lambda x: \"_\".join(x), df_piv.columns))\n",
    "df_piv\n",
    "\n",
    "f, ax = plt.subplots(figsize=(12, 12))\n",
    "\n",
    "sns.scatterplot(\n",
    "    data=df_piv,\n",
    "    x=\"duration_s_BFS\",\n",
    "    y=\"duration_s_ACBFS\",\n",
    "    style=\"schedulable_ACBFS\",\n",
    "    hue=\"nbt_BFS\",\n",
    "    ax=ax,\n",
    "    palette=task_palette,\n",
    ")\n",
    "ax.set(xscale=\"log\", yscale=\"log\")\n",
    "ax.axis(\"equal\")\n",
    "\n",
    "lims = [\n",
    "    10**-5.1,\n",
    "    np.max([ax.get_xlim(), ax.get_ylim()]),  # max of both axes\n",
    "]\n",
    "\n",
    "# now plot both limits against eachother\n",
    "ax.plot(lims, lims, \"k-\", alpha=0.75, zorder=1)\n",
    "\n",
    "ax.set(xlim=lims, ylim=lims)"
   ]
  },
  {
   "cell_type": "code",
   "execution_count": null,
   "metadata": {},
   "outputs": [],
   "source": [
    "s = df.shape[0] * [True]\n",
    "df_plot = df.loc[s]\n",
    "df_piv = df_plot.copy().pivot(\n",
    "    index=\"tid\",\n",
    "    columns=\"search_type\",\n",
    "    values=[\"duration_s\", \"n_visited\", \"schedulable\", \"nbt\"],\n",
    ")\n",
    "df_piv.columns = list(map(lambda x: \"_\".join(x), df_piv.columns))\n",
    "df_piv = df_piv.loc[(df_piv[\"duration_s_ACBFS\"] > 0) & (df_piv[\"duration_s_BFS\"] > 0)]\n",
    "df_piv[\"duration_s_ratio\"] = df_piv[\"duration_s_ACBFS\"] / df_piv[\"duration_s_BFS\"]\n",
    "\n",
    "sns.displot(data=df_piv, x=\"duration_s_ratio\", kde=True)"
   ]
  },
  {
   "cell_type": "code",
   "execution_count": null,
   "metadata": {},
   "outputs": [],
   "source": [
    "s = df.shape[0] * [True]\n",
    "\n",
    "df_plot = df.loc[s]\n",
    "\n",
    "g = sns.boxplot(data=df_plot, y=\"n_visited\", x=\"n_task\", hue=\"search_type\")\n",
    "g.set_yscale(\"log\")\n",
    "plt.show()"
   ]
  },
  {
   "cell_type": "code",
   "execution_count": null,
   "metadata": {},
   "outputs": [],
   "source": [
    "s = df.shape[0] * [True]\n",
    "\n",
    "df_plot = df.loc[s]\n",
    "\n",
    "g = sns.boxplot(data=df_plot, y=\"duration_s\", x=\"n_task\", hue=\"search_type\")\n",
    "g.set_yscale(\"log\")\n",
    "plt.show()"
   ]
  }
 ],
 "metadata": {
  "kernelspec": {
   "display_name": "Python 3 (ipykernel)",
   "language": "python",
   "name": "python3"
  },
  "language_info": {
   "codemirror_mode": {
    "name": "ipython",
    "version": 3
   },
   "file_extension": ".py",
   "mimetype": "text/x-python",
   "name": "python",
   "nbconvert_exporter": "python",
   "pygments_lexer": "ipython3",
   "version": "3.9.12"
  },
  "vscode": {
   "interpreter": {
    "hash": "62c5e80c219e2b83cd55df7cad6caf944097e7bbdaa14d1d255be04d1b1730c1"
   }
  }
 },
 "nbformat": 4,
 "nbformat_minor": 4
}
