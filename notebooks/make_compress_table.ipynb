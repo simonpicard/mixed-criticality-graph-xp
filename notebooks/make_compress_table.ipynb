{
 "cells": [
  {
   "cell_type": "code",
   "execution_count": null,
   "metadata": {},
   "outputs": [],
   "source": [
    "import datetime\n",
    "\n",
    "import matplotlib.pyplot as plt\n",
    "import numpy as np\n",
    "import pandas as pd\n",
    "import seaborn as sns"
   ]
  },
  {
   "cell_type": "code",
   "execution_count": null,
   "metadata": {},
   "outputs": [],
   "source": [
    "path = \"./results/results-mcs_compression_table-2024-05-21_08-03-23.csv\"\n",
    "df = pd.read_csv(path, sep=\";\")\n",
    "df"
   ]
  },
  {
   "cell_type": "code",
   "execution_count": null,
   "metadata": {},
   "outputs": [],
   "source": [
    "df[\"duration_ns\"].max() / (60 * 10**9)"
   ]
  },
  {
   "cell_type": "code",
   "execution_count": null,
   "metadata": {},
   "outputs": [],
   "source": [
    "df[\"tid\"] = df[\"taskset_position\"]\n",
    "df[\"schedulable\"] = df[\"is_safe\"]\n",
    "df[\"Schedulable\"] = df[\"is_safe\"]\n",
    "df[\"n_task\"] = df[\"nbt\"]\n",
    "df[\"Number of tasks\"] = df[\"nbt\"]\n",
    "df[\"duration_s\"] = df[\"duration_ns\"] / 1e9\n",
    "df[\"n_visited\"] = df[\"visited_count\"]\n",
    "df[\"search_type\"] = df[\"use_idlesim\"].apply(lambda x: \"ACBFS\" if x else \"BFS\")\n",
    "\n",
    "df[\"safe_oracles_fmt\"] = df[\"safe_oracles\"].str.strip(\"[']\")\n",
    "df[\"unsafe_oracles_fmt\"] = df[\"unsafe_oracles\"].str.strip(\"[']\")\n",
    "df[\"safe_oracles_fmt\"] = df[\"safe_oracles_fmt\"].apply(lambda x: x if len(x) else None)\n",
    "df[\"unsafe_oracles_fmt\"] = df[\"unsafe_oracles_fmt\"].apply(\n",
    "    lambda x: x if len(x) else None\n",
    ")\n",
    "\n",
    "df[\"oracle\"] = df.apply(\n",
    "    lambda x: (\n",
    "        x[\"safe_oracles_fmt\"]\n",
    "        if x[\"safe_oracles_fmt\"]\n",
    "        else x[\"unsafe_oracles_fmt\"] if x[\"unsafe_oracles_fmt\"] else \"none\"\n",
    "    ),\n",
    "    axis=1,\n",
    ")\n",
    "\n",
    "df[\"unsafe\"] = df[\"oracle\"] == \"hi-over-demand\"\n",
    "df[\"unsafe\"] = df[\"unsafe\"].apply(lambda x: \"hi-over-demand\" if x else None)"
   ]
  },
  {
   "cell_type": "code",
   "execution_count": null,
   "metadata": {},
   "outputs": [],
   "source": [
    "scope = df[\"search_type\"] == \"BFS\"\n",
    "scope &= df[\"unsafe\"].isna()\n",
    "df_ref = df.loc[scope, [\"tid\", \"duration_s\", \"n_visited\"]].rename(\n",
    "    columns={\"duration_s\": \"duration_s_ref\", \"n_visited\": \"n_visited_ref\"}\n",
    ")\n",
    "df = df.merge(df_ref, on=\"tid\")"
   ]
  },
  {
   "cell_type": "code",
   "execution_count": null,
   "metadata": {},
   "outputs": [],
   "source": [
    "df[\"n_visited_norm\"] = df[\"n_visited\"]\n",
    "df[\"duration_s_norm\"] = df[\"duration_s\"]\n",
    "\n",
    "df.loc[~scope, \"n_visited_norm\"] = (\n",
    "    df.loc[~scope, \"n_visited\"] / df.loc[~scope, \"n_visited_ref\"] - 1\n",
    ") * 100\n",
    "df.loc[~scope, \"duration_s_norm\"] = (\n",
    "    df.loc[~scope, \"duration_s\"] / df.loc[~scope, \"duration_s_ref\"] - 1\n",
    ") * 100"
   ]
  },
  {
   "cell_type": "code",
   "execution_count": null,
   "metadata": {},
   "outputs": [],
   "source": [
    "import pandas as pd\n",
    "\n",
    "pd.set_option(\"display.float_format\", lambda x: \"%.4f\" % x)"
   ]
  },
  {
   "cell_type": "code",
   "execution_count": null,
   "metadata": {},
   "outputs": [],
   "source": [
    "df"
   ]
  },
  {
   "cell_type": "code",
   "execution_count": null,
   "metadata": {},
   "outputs": [],
   "source": [
    "df[\"Search\"] = df[\"search_type\"]\n",
    "df[\"Oracle\"] = df[\"unsafe\"].apply(\n",
    "    lambda x: \"HI over demand\" if x == \"hi-over-demand\" else \"None\"\n",
    ")"
   ]
  },
  {
   "cell_type": "code",
   "execution_count": null,
   "metadata": {},
   "outputs": [],
   "source": [
    "s = df[\"n_visited_norm\"].idxmin()\n",
    "tsp = df.loc[s, \"taskset_position\"]\n",
    "df.loc[\n",
    "    df[\"taskset_position\"] == tsp,\n",
    "    [\n",
    "        \"use_case\",\n",
    "        \"is_safe\",\n",
    "        \"visited_count\",\n",
    "        \"n_visited_norm\",\n",
    "        \"duration_s\",\n",
    "        \"duration_s_norm\",\n",
    "    ],\n",
    "]"
   ]
  },
  {
   "cell_type": "code",
   "execution_count": null,
   "metadata": {},
   "outputs": [],
   "source": [
    "dfagg = (\n",
    "    df.groupby([\"Search\", \"Oracle\"], dropna=False)[\n",
    "        [\"n_visited_norm\", \"duration_s_norm\"]\n",
    "    ]\n",
    "    .agg([\"min\", \"mean\", \"std\", \"median\", \"max\"])\n",
    "    .apply(lambda x: round(x, 2))\n",
    "    .applymap(str)\n",
    ")"
   ]
  },
  {
   "cell_type": "code",
   "execution_count": null,
   "metadata": {},
   "outputs": [],
   "source": [
    "dfagg.columns = dfagg.columns.set_levels(\n",
    "    [\"Number of visited states before halt\", \"Execution time\"], level=0\n",
    ")"
   ]
  },
  {
   "cell_type": "code",
   "execution_count": null,
   "metadata": {},
   "outputs": [],
   "source": [
    "dfagg = dfagg.reindex([\"BFS\", \"ACBFS\"], level=0)\n",
    "dfagg = dfagg.reindex([\"None\", \"HI over demand\"], level=1)"
   ]
  },
  {
   "cell_type": "code",
   "execution_count": null,
   "metadata": {},
   "outputs": [],
   "source": [
    "dfagg.iloc[1:] = \" (\" + dfagg.iloc[1:] + \"\\%)\""
   ]
  },
  {
   "cell_type": "code",
   "execution_count": null,
   "metadata": {},
   "outputs": [],
   "source": [
    "dfagg2_int = (\n",
    "    df.groupby([\"Search\", \"Oracle\"], dropna=False)[[\"n_visited\"]]\n",
    "    .agg([\"min\", \"mean\", \"std\", \"median\", \"max\"])\n",
    "    .applymap(lambda x: round(x))\n",
    ")\n",
    "\n",
    "dfagg2_int = dfagg2_int.reindex([\"BFS\", \"ACBFS\"], level=0)\n",
    "dfagg2_int = dfagg2_int.reindex([\"None\", \"HI over demand\"], level=1)\n",
    "\n",
    "dfagg2_int = dfagg2_int.T\n",
    "\n",
    "dfagg2 = dfagg2_int.applymap(str)\n",
    "\n",
    "\n",
    "dfagg2"
   ]
  },
  {
   "cell_type": "code",
   "execution_count": null,
   "metadata": {},
   "outputs": [],
   "source": [
    "(1 - 29 / 9905) * 100"
   ]
  },
  {
   "cell_type": "code",
   "execution_count": null,
   "metadata": {},
   "outputs": [],
   "source": [
    "r = dfagg2_int.iloc[:, 0]\n",
    "for i in range(3):\n",
    "    dfagg2_int.iloc[:, 1 + i] /= r\n",
    "    dfagg2_int.iloc[:, 1 + i] -= 1"
   ]
  },
  {
   "cell_type": "code",
   "execution_count": null,
   "metadata": {},
   "outputs": [],
   "source": [
    "(dfagg2_int * 100).applymap(lambda x: round(x))"
   ]
  }
 ],
 "metadata": {
  "kernelspec": {
   "display_name": "Python 3 (ipykernel)",
   "language": "python",
   "name": "python3"
  },
  "language_info": {
   "codemirror_mode": {
    "name": "ipython",
    "version": 3
   },
   "file_extension": ".py",
   "mimetype": "text/x-python",
   "name": "python",
   "nbconvert_exporter": "python",
   "pygments_lexer": "ipython3",
   "version": "3.11.9"
  },
  "vscode": {
   "interpreter": {
    "hash": "62c5e80c219e2b83cd55df7cad6caf944097e7bbdaa14d1d255be04d1b1730c1"
   }
  }
 },
 "nbformat": 4,
 "nbformat_minor": 4
}
