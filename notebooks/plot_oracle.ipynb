{
 "cells": [
  {
   "cell_type": "code",
   "execution_count": null,
   "metadata": {},
   "outputs": [],
   "source": [
    "from datetime import datetime\n",
    "\n",
    "import matplotlib.pyplot as plt\n",
    "import matplotlib.ticker as mtick\n",
    "import seaborn as sns\n",
    "from util import prepare_df"
   ]
  },
  {
   "cell_type": "code",
   "execution_count": null,
   "metadata": {},
   "outputs": [],
   "source": [
    "df = prepare_df(xp_identifier=\"oracles\")\n",
    "df.head()"
   ]
  },
  {
   "cell_type": "code",
   "execution_count": null,
   "metadata": {},
   "outputs": [],
   "source": [
    "%config InlineBackend.print_figure_kwargs={'facecolor' : \"w\"}\n",
    "task_palette = sns.color_palette(\"deep\", int(df[\"n_task\"].unique().shape[0]))\n",
    "sns.set_theme(style=\"whitegrid\", palette=\"deep\", rc={\"figure.figsize\": (11.7, 8.27)})"
   ]
  },
  {
   "cell_type": "code",
   "execution_count": null,
   "metadata": {},
   "outputs": [],
   "source": [
    "df_root = df[[\"tid\", \"n_task\", \"schedulable\", \"Number of tasks\", \"Schedulable\"]]\n",
    "df_root = df_root.set_index(\"tid\")"
   ]
  },
  {
   "cell_type": "code",
   "execution_count": null,
   "metadata": {},
   "outputs": [],
   "source": [
    "df_ss = df.pivot(index=\"tid\", columns=\"oracle\", values=[\"duration_s\", \"n_visited\"])\n",
    "df_ss.columns = list(map(lambda x: \"_\".join(x), df_ss.columns))\n",
    "df_ss = df_root.join(df_ss)"
   ]
  },
  {
   "cell_type": "code",
   "execution_count": null,
   "metadata": {},
   "outputs": [],
   "source": [
    "oracle_sort_list = (\n",
    "    df.groupby(\"oracle\")[\"n_visited\"].median().sort_values().index.to_list()[::-1]\n",
    ")"
   ]
  },
  {
   "cell_type": "code",
   "execution_count": null,
   "metadata": {},
   "outputs": [],
   "source": [
    "g = sns.boxplot(\n",
    "    data=df,\n",
    "    y=\"n_visited\",\n",
    "    x=\"n_task\",\n",
    "    hue=\"oracle\",\n",
    "    hue_order=df.groupby(\"oracle\")[\"n_visited\"]\n",
    "    .median()\n",
    "    .sort_values()\n",
    "    .index.to_list()[::-1],\n",
    ")\n",
    "g.set_yscale(\"log\")\n",
    "plt.show()"
   ]
  },
  {
   "cell_type": "code",
   "execution_count": null,
   "metadata": {},
   "outputs": [],
   "source": [
    "g = sns.boxplot(\n",
    "    data=df,\n",
    "    y=\"duration_s\",\n",
    "    x=\"n_task\",\n",
    "    hue=\"oracle\",\n",
    "    hue_order=df.groupby(\"oracle\")[\"duration_s\"]\n",
    "    .median()\n",
    "    .sort_values()\n",
    "    .index.to_list()[::-1],\n",
    ")\n",
    "g.set_yscale(\"log\")\n",
    "plt.show()"
   ]
  },
  {
   "cell_type": "code",
   "execution_count": null,
   "metadata": {},
   "outputs": [],
   "source": [
    "df_comp = df.loc[df[\"oracle\"] != \"none\"].merge(\n",
    "    df.loc[df[\"oracle\"] == \"none\", [\"tid\", \"duration_s\", \"n_visited\"]],\n",
    "    on=\"tid\",\n",
    "    suffixes=(\"\", \"_none\"),\n",
    ")\n",
    "df_comp[\"n_visited_ratio\"] = df_comp[\"n_visited\"] / df_comp[\"n_visited_none\"]\n",
    "df_comp[\"duration_s_ratio\"] = df_comp[\"duration_s\"] / df_comp[\"duration_s_none\"]\n",
    "df_comp[\"n_visited_change\"] = df_comp[\"n_visited_ratio\"] - 1\n",
    "df_comp[\"duration_s_change\"] = df_comp[\"duration_s_ratio\"] - 1"
   ]
  },
  {
   "cell_type": "code",
   "execution_count": null,
   "metadata": {},
   "outputs": [],
   "source": [
    "# s = df_comp[\"oracle\"] == \"edf_carryoverjobs\"\n",
    "\n",
    "# f = sns.jointplot(data=df_comp.loc[s], x=\"duration_s\", y=\"duration_s_change\", hue=\"schedulable\")\n",
    "f = sns.jointplot(data=df_comp, x=\"duration_s_change\", y=\"n_visited_change\")\n",
    "# f.set_yscale(\"log\")"
   ]
  },
  {
   "cell_type": "code",
   "execution_count": null,
   "metadata": {},
   "outputs": [],
   "source": [
    "df_comp_melt = df_comp.melt(\n",
    "    id_vars=[\"tid\", \"oracle\", \"schedulable\"],\n",
    "    value_vars=[\"n_visited_change\", \"duration_s_change\"],\n",
    ")\n",
    "\n",
    "\n",
    "df_comp_melt = df_comp_melt.rename(\n",
    "    columns={\n",
    "        \"variable\": \"Dimension\",\n",
    "        \"value\": \"Relative change\",\n",
    "        \"schedulable\": \"Schedulable\",\n",
    "        \"oracle\": \"Oracle\",\n",
    "    }\n",
    ")\n",
    "\n",
    "df_comp_melt[\"Relative change\"] = df_comp_melt[\"Relative change\"] * 100\n",
    "\n",
    "metric_map = {\n",
    "    \"duration_s_change\": \"Execution time\",\n",
    "    \"n_visited_change\": \"Number of visited states before halt\",\n",
    "}\n",
    "\n",
    "df_comp_melt[\"Dimension\"] = df_comp_melt[\"Dimension\"].map(lambda x: metric_map[x])\n",
    "\n",
    "oracle_map = {\n",
    "    \"all_idle_hi\": \"All idle HI\",\n",
    "    \"all_interference\": \"All interference\",\n",
    "    \"interference\": \"Interference\",\n",
    "    \"none\": \"None\",\n",
    "    \"laxity\": \"Laxity\",\n",
    "    \"hi_interference\": \"HI-Interference\",\n",
    "    \"worst_interference\": \"HI-Interference\",\n",
    "    \"worst_laxity\": \"Worst Laxity\",\n",
    "    \"sum_sorted_laxities\": \"Sum min. laxities\",\n",
    "    \"sum_sorted_worst_laxities\": \"Sum min. worst laxities\",\n",
    "}\n",
    "\n",
    "df_comp_melt[\"Oracle\"] = df_comp_melt[\"Oracle\"].map(\n",
    "    lambda x: oracle_map[x] if x in oracle_map else x\n",
    ")\n",
    "\n",
    "s = df_comp_melt[\"Dimension\"] == \"Execution time\"\n",
    "df_order = (\n",
    "    df_comp_melt.loc[s]\n",
    "    .groupby([\"Oracle\", \"Schedulable\"], as_index=False)[\"Relative change\"]\n",
    "    .median()\n",
    ")\n",
    "oracles_order = (\n",
    "    df_order.loc[df_order[\"Schedulable\"]].set_index(\"Oracle\")[\"Relative change\"]\n",
    "    + df_order.loc[~df_order[\"Schedulable\"]].set_index(\"Oracle\")[\"Relative change\"]\n",
    ")\n",
    "oracles_order = oracles_order.sort_values(ascending=False).index.tolist()"
   ]
  },
  {
   "cell_type": "code",
   "execution_count": null,
   "metadata": {},
   "outputs": [],
   "source": [
    "def fmt_percent(x, *args):\n",
    "    return (\"+\" if x > 0 else \"\") + f\"{x:.0f}%\"\n",
    "\n",
    "\n",
    "def fmt_percent_1f(x, *args):\n",
    "    return (\"+\" if x > 0 else \"\") + f\"{x:.1f}%\""
   ]
  },
  {
   "cell_type": "code",
   "execution_count": null,
   "metadata": {},
   "outputs": [],
   "source": [
    "fg = sns.catplot(\n",
    "    df_comp_melt,\n",
    "    kind=\"bar\",\n",
    "    y=\"Relative change\",\n",
    "    x=\"Oracle\",\n",
    "    col=\"Dimension\",\n",
    "    hue=\"Schedulable\",\n",
    "    height=5.5129,\n",
    "    aspect=1,\n",
    "    sharex=False,\n",
    "    col_order=[\"Number of visited states before halt\", \"Execution time\"],\n",
    "    errorbar=None,\n",
    "    estimator=\"median\",\n",
    "    order=oracles_order,\n",
    ")\n",
    "\n",
    "\n",
    "fg.set_titles(\"{col_name}\")\n",
    "\n",
    "# draw a dashed vertical line at 0 on the first plot of the face grid\n",
    "fg.axes[0, 1].axhline(0, color=\"k\", linestyle=\"--\")\n",
    "fg.axes[0, 0].axhline(0, color=\"k\", linestyle=\"--\")\n",
    "\n",
    "fg.axes[0, 0].bar_label(fg.axes[0, 0].containers[0], fontsize=8, fmt=fmt_percent_1f)\n",
    "fg.axes[0, 0].bar_label(fg.axes[0, 0].containers[1], fontsize=8, fmt=fmt_percent_1f)\n",
    "fg.axes[0, 1].bar_label(fg.axes[0, 1].containers[0], fontsize=8, fmt=fmt_percent_1f)\n",
    "fg.axes[0, 1].bar_label(fg.axes[0, 1].containers[1], fontsize=8, fmt=fmt_percent_1f)\n",
    "\n",
    "fg.axes[0, 0].yaxis.set_major_formatter(fmt_percent)\n",
    "\n",
    "\n",
    "sns.despine(fg.figure, bottom=True)\n",
    "\n",
    "fg.set_xticklabels(rotation=90)\n",
    "\n",
    "fg.savefig(\n",
    "    f\"{datetime.now().strftime('%Y%m%d_%H%M%S')}_oracle.pdf\", bbox_inches=\"tight\"\n",
    ")"
   ]
  },
  {
   "cell_type": "code",
   "execution_count": null,
   "metadata": {},
   "outputs": [],
   "source": [
    "fg = sns.catplot(\n",
    "    df_comp_melt,\n",
    "    kind=\"box\",\n",
    "    x=\"Relative change\",\n",
    "    y=\"Oracle\",\n",
    "    col=\"Dimension\",\n",
    "    hue=\"Schedulable\",\n",
    "    height=5.5129,\n",
    "    aspect=1,\n",
    "    sharex=False,\n",
    "    col_order=[\"Number of visited states before halt\", \"Execution time\"],\n",
    "    showfliers=False,\n",
    "    order=oracles_order,\n",
    ")\n",
    "\n",
    "\n",
    "fg.set_titles(\"{col_name}\")\n",
    "\n",
    "# fg.axes[0, 0].xaxis.set_major_formatter(mtick.PercentFormatter(xmax=100))\n",
    "fg.axes[0, 0].xaxis.set_major_formatter(fmt_percent)\n",
    "fg.axes[0, 1].xaxis.set_major_formatter(fmt_percent)\n",
    "\n",
    "fg.savefig(\n",
    "    f\"{datetime.now().strftime('%Y%m%d_%H%M%S')}_oracle_box.pdf\", bbox_inches=\"tight\"\n",
    ")"
   ]
  }
 ],
 "metadata": {
  "kernelspec": {
   "display_name": "Python 3 (ipykernel)",
   "language": "python",
   "name": "python3"
  },
  "language_info": {
   "codemirror_mode": {
    "name": "ipython",
    "version": 3
   },
   "file_extension": ".py",
   "mimetype": "text/x-python",
   "name": "python",
   "nbconvert_exporter": "python",
   "pygments_lexer": "ipython3",
   "version": "3.9.12"
  },
  "vscode": {
   "interpreter": {
    "hash": "62c5e80c219e2b83cd55df7cad6caf944097e7bbdaa14d1d255be04d1b1730c1"
   }
  }
 },
 "nbformat": 4,
 "nbformat_minor": 4
}
