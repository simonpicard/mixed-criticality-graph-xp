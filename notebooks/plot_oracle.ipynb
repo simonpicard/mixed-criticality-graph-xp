{
 "cells": [
  {
   "cell_type": "code",
   "execution_count": null,
   "metadata": {},
   "outputs": [],
   "source": [
    "from datetime import datetime\n",
    "\n",
    "import matplotlib.pyplot as plt\n",
    "import seaborn as sns\n",
    "from util import prepare_df"
   ]
  },
  {
   "cell_type": "code",
   "execution_count": null,
   "metadata": {},
   "outputs": [],
   "source": [
    "df = prepare_df(\n",
    "    \"../outputs/20240214_180210_oracles_header.csv\",\n",
    "    \"../outputs/20240214_180210_oracles_explo.csv\",\n",
    ")"
   ]
  },
  {
   "cell_type": "code",
   "execution_count": null,
   "metadata": {},
   "outputs": [],
   "source": [
    "%config InlineBackend.print_figure_kwargs={'facecolor' : \"w\"}\n",
    "task_palette = sns.color_palette(\"deep\", int(df[\"n_task\"].unique().shape[0]))\n",
    "sns.set_theme(style=\"white\", palette=\"deep\", rc={\"figure.figsize\": (11.7, 8.27)})"
   ]
  },
  {
   "cell_type": "code",
   "execution_count": null,
   "metadata": {},
   "outputs": [],
   "source": [
    "df[\"Number of tasks\"] = df[\"nbt\"]\n",
    "df[\"Schedulable\"] = df[\"schedulable\"]"
   ]
  },
  {
   "cell_type": "code",
   "execution_count": null,
   "metadata": {},
   "outputs": [],
   "source": [
    "df[\"oracle\"] = df[\"safe\"].combine_first(df[\"unsafe\"])\n",
    "df[\"oracle\"] = df[\"oracle\"].fillna(\"none\")"
   ]
  },
  {
   "cell_type": "code",
   "execution_count": null,
   "metadata": {},
   "outputs": [],
   "source": [
    "df_root = df[\n",
    "    [\"tid\", \"n_task\", \"schedulable\", \"Number of tasks\", \"Schedulable\"]\n",
    "].drop_duplicates()\n",
    "df_root = df_root.set_index(\"tid\")"
   ]
  },
  {
   "cell_type": "code",
   "execution_count": null,
   "metadata": {},
   "outputs": [],
   "source": [
    "df_ss = df.pivot(index=\"tid\", columns=\"oracle\", values=[\"duration_s\", \"n_visited\"])\n",
    "df_ss.columns = list(map(lambda x: \"_\".join(x), df_ss.columns))\n",
    "df_ss = df_root.join(df_ss)"
   ]
  },
  {
   "cell_type": "code",
   "execution_count": null,
   "metadata": {},
   "outputs": [],
   "source": [
    "oracle_sort_list = (\n",
    "    df.groupby(\"oracle\")[\"n_visited\"].median().sort_values().index.to_list()[::-1]\n",
    ")"
   ]
  },
  {
   "cell_type": "code",
   "execution_count": null,
   "metadata": {},
   "outputs": [],
   "source": [
    "g = sns.boxplot(\n",
    "    data=df,\n",
    "    y=\"n_visited\",\n",
    "    x=\"n_task\",\n",
    "    hue=\"oracle\",\n",
    "    hue_order=df.groupby(\"oracle\")[\"n_visited\"]\n",
    "    .median()\n",
    "    .sort_values()\n",
    "    .index.to_list()[::-1],\n",
    ")\n",
    "g.set_yscale(\"log\")\n",
    "plt.show()"
   ]
  },
  {
   "cell_type": "code",
   "execution_count": null,
   "metadata": {},
   "outputs": [],
   "source": [
    "g = sns.boxplot(\n",
    "    data=df,\n",
    "    y=\"duration_s\",\n",
    "    x=\"n_task\",\n",
    "    hue=\"oracle\",\n",
    "    hue_order=df.groupby(\"oracle\")[\"duration_s\"]\n",
    "    .median()\n",
    "    .sort_values()\n",
    "    .index.to_list()[::-1],\n",
    ")\n",
    "g.set_yscale(\"log\")\n",
    "plt.show()"
   ]
  },
  {
   "cell_type": "code",
   "execution_count": null,
   "metadata": {},
   "outputs": [],
   "source": [
    "df_comp = df.loc[df[\"oracle\"] != \"none\"].merge(\n",
    "    df.loc[df[\"oracle\"] == \"none\", [\"tid\", \"duration_s\", \"n_visited\"]],\n",
    "    on=\"tid\",\n",
    "    suffixes=(\"\", \"_none\"),\n",
    ")\n",
    "df_comp[\"n_visited_ratio\"] = df_comp[\"n_visited\"] / df_comp[\"n_visited_none\"]\n",
    "df_comp[\"duration_s_ratio\"] = df_comp[\"duration_s\"] / df_comp[\"duration_s_none\"]"
   ]
  },
  {
   "cell_type": "code",
   "execution_count": null,
   "metadata": {},
   "outputs": [],
   "source": [
    "df_sr = (\n",
    "    1\n",
    "    - df_comp.groupby([\"oracle\", \"schedulable\"])[\n",
    "        [\"duration_s_ratio\", \"n_visited_ratio\"]\n",
    "    ].median()\n",
    ")\n",
    "df_sr = df_sr.reset_index()\n",
    "# df_sr[\"relative_duration_impact\"] =1-df_sr[\"duration_s_ratio\"]"
   ]
  },
  {
   "cell_type": "code",
   "execution_count": null,
   "metadata": {},
   "outputs": [],
   "source": [
    "df_sr_melt = df_sr.melt(\n",
    "    id_vars=[\"oracle\", \"schedulable\"],\n",
    "    value_vars=[\"duration_s_ratio\", \"n_visited_ratio\"],\n",
    ")\n",
    "\n",
    "df_sr_melt = df_sr_melt.rename(\n",
    "    columns={\n",
    "        \"variable\": \"Metric\",\n",
    "        \"value\": \"Compression\",\n",
    "        \"schedulable\": \"Schedulable\",\n",
    "        \"oracle\": \"Oracle\",\n",
    "    }\n",
    ")\n",
    "\n",
    "metric_map = {\n",
    "    \"duration_s_ratio\": \"Execution time (s)\",\n",
    "    \"n_visited_ratio\": \"Number of visited states before halt\",\n",
    "}\n",
    "\n",
    "df_sr_melt[\"Metric\"] = df_sr_melt[\"Metric\"].map(lambda x: metric_map[x])\n",
    "\n",
    "oracle_map = {\n",
    "    \"all_idle_hi\": \"All idle HI\",\n",
    "    \"all_interference\": \"All interference\",\n",
    "    \"interference\": \"Interference\",\n",
    "    \"none\": \"None\",\n",
    "    \"laxity\": \"Laxity\",\n",
    "    \"worst_interference\": \"HI-Interference\",\n",
    "    \"worst_laxity\": \"Worst Laxity\",\n",
    "}\n",
    "\n",
    "df_sr_melt[\"Oracle\"] = df_sr_melt[\"Oracle\"].map(lambda x: oracle_map[x])"
   ]
  },
  {
   "cell_type": "code",
   "execution_count": null,
   "metadata": {},
   "outputs": [],
   "source": [
    "fg = sns.catplot(\n",
    "    df_sr_melt,\n",
    "    kind=\"bar\",\n",
    "    x=\"Compression\",\n",
    "    y=\"Oracle\",\n",
    "    col=\"Metric\",\n",
    "    hue=\"Schedulable\",\n",
    "    height=5.5129,\n",
    "    aspect=1,\n",
    "    sharex=False,\n",
    "    order=df_sr_melt.groupby(\"Oracle\")[\"Compression\"].max().sort_values().index,\n",
    "    col_order=[\"Number of visited states before halt\", \"Execution time (s)\"],\n",
    ")\n",
    "\n",
    "\n",
    "fg.set_titles(\"{col_name}\")\n",
    "\n",
    "# draw a dashed vertical line at 0 on the first plot of the face grid\n",
    "fg.axes[0, 1].axvline(0, color=\"k\", linestyle=\"--\")\n",
    "\n",
    "\n",
    "fg.axes[0, 0].bar_label(fg.axes[0, 0].containers[0], fontsize=10, fmt=\"%.3f\")\n",
    "fg.axes[0, 0].bar_label(fg.axes[0, 0].containers[1], fontsize=10, fmt=\"%.3f\")\n",
    "fg.axes[0, 1].bar_label(fg.axes[0, 1].containers[0], fontsize=10, fmt=\"%.3f\")\n",
    "fg.axes[0, 1].bar_label(fg.axes[0, 1].containers[1], fontsize=10, fmt=\"%.3f\")\n",
    "\n",
    "fg.savefig(f\"{datetime.now().strftime('%Y%m%d%H%M%S')}_oracle.pdf\", bbox_inches=\"tight\")"
   ]
  },
  {
   "cell_type": "code",
   "execution_count": null,
   "metadata": {},
   "outputs": [],
   "source": [
    "df_comp.groupby(\"oracle\")[\"n_visited_ratio\"].mean()"
   ]
  },
  {
   "cell_type": "code",
   "execution_count": null,
   "metadata": {},
   "outputs": [],
   "source": [
    "f3, ax3 = plt.subplots()\n",
    "\n",
    "scope = df_comp[\"duration_s\"] > 0.1\n",
    "\n",
    "df_plot = df_comp.loc[scope]\n",
    "\n",
    "sns.scatterplot(\n",
    "    data=df_plot,\n",
    "    x=\"duration_s_ratio\",\n",
    "    y=\"n_visited_ratio\",\n",
    "    style=\"Schedulable\",\n",
    "    hue=\"oracle\",\n",
    "    ax=ax3,\n",
    ")\n",
    "ax3.axis(\"equal\")"
   ]
  }
 ],
 "metadata": {
  "kernelspec": {
   "display_name": "base",
   "language": "python",
   "name": "python3"
  },
  "language_info": {
   "codemirror_mode": {
    "name": "ipython",
    "version": 3
   },
   "file_extension": ".py",
   "mimetype": "text/x-python",
   "name": "python",
   "nbconvert_exporter": "python",
   "pygments_lexer": "ipython3",
   "version": "3.9.12"
  },
  "orig_nbformat": 4,
  "vscode": {
   "interpreter": {
    "hash": "62c5e80c219e2b83cd55df7cad6caf944097e7bbdaa14d1d255be04d1b1730c1"
   }
  }
 },
 "nbformat": 4,
 "nbformat_minor": 2
}
