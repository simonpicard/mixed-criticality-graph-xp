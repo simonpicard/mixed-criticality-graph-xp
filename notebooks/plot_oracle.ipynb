{
 "cells": [
  {
   "cell_type": "code",
   "execution_count": null,
   "metadata": {},
   "outputs": [],
   "source": [
    "import datetime\n",
    "\n",
    "import matplotlib.patches as mpatches\n",
    "import matplotlib.pyplot as plt\n",
    "import numpy as np\n",
    "import pandas as pd\n",
    "import seaborn as sns"
   ]
  },
  {
   "cell_type": "code",
   "execution_count": null,
   "metadata": {},
   "outputs": [],
   "source": [
    "sns.set_theme(style=\"whitegrid\", palette=\"deep\")\n",
    "task_palette = sns.color_palette(\"deep\")\n",
    "plt.rcParams[\"text.usetex\"] = True\n",
    "plt.rcParams.update({\"figure.titlesize\": \"small\"})\n",
    "plt.rcParams.update({\"axes.titlesize\": \"small\"})\n",
    "plt.rcParams.update({\"axes.labelsize\": \"small\"})\n",
    "plt.rcParams.update({\"ytick.labelsize\": \"small\"})\n",
    "plt.rcParams.update({\"xtick.labelsize\": \"small\"})\n",
    "plt.rcParams.update({\"legend.fontsize\": \"small\"})"
   ]
  },
  {
   "cell_type": "code",
   "execution_count": null,
   "metadata": {},
   "outputs": [],
   "source": [
    "path = \"./results/results-mcs_oracles-2024-05-18_14-26-47.csv\"\n",
    "df = pd.read_csv(path, sep=\";\")\n",
    "df"
   ]
  },
  {
   "cell_type": "code",
   "execution_count": null,
   "metadata": {},
   "outputs": [],
   "source": [
    "df.groupby(\"taskset_position\")[\"is_safe\"].apply(lambda x: (x == x.iloc[0]).all()).all()"
   ]
  },
  {
   "cell_type": "code",
   "execution_count": null,
   "metadata": {},
   "outputs": [],
   "source": [
    "df[\"tid\"] = df[\"taskset_position\"]\n",
    "df[\"schedulable\"] = df[\"is_safe\"]\n",
    "df[\"Schedulable\"] = df[\"is_safe\"]\n",
    "df[\"n_task\"] = df[\"nbt\"]\n",
    "df[\"Number of tasks\"] = df[\"nbt\"]\n",
    "df[\"duration_s\"] = df[\"duration_ns\"] / 1e9\n",
    "df[\"n_visited\"] = df[\"visited_count\"]"
   ]
  },
  {
   "cell_type": "code",
   "execution_count": null,
   "metadata": {},
   "outputs": [],
   "source": [
    "df[\"safe_oracles_fmt\"] = df[\"safe_oracles\"].str.strip(\"[']\")\n",
    "df[\"unsafe_oracles_fmt\"] = df[\"unsafe_oracles\"].str.strip(\"[']\")\n",
    "df[\"safe_oracles_fmt\"] = df[\"safe_oracles_fmt\"].apply(lambda x: x if len(x) else None)\n",
    "df[\"unsafe_oracles_fmt\"] = df[\"unsafe_oracles_fmt\"].apply(\n",
    "    lambda x: x if len(x) else None\n",
    ")\n",
    "\n",
    "df[\"oracle\"] = df.apply(\n",
    "    lambda x: (\n",
    "        x[\"safe_oracles_fmt\"]\n",
    "        if x[\"safe_oracles_fmt\"]\n",
    "        else x[\"unsafe_oracles_fmt\"]\n",
    "        if x[\"unsafe_oracles_fmt\"]\n",
    "        else \"none\"\n",
    "    ),\n",
    "    axis=1,\n",
    ")"
   ]
  },
  {
   "cell_type": "code",
   "execution_count": null,
   "metadata": {},
   "outputs": [],
   "source": [
    "df[\"oracle\"] = df.apply(\n",
    "    lambda x: (\n",
    "        x[\"safe_oracles_fmt\"]\n",
    "        if x[\"safe_oracles_fmt\"]\n",
    "        else x[\"unsafe_oracles_fmt\"]\n",
    "        if x[\"unsafe_oracles_fmt\"]\n",
    "        else \"none\"\n",
    "    ),\n",
    "    axis=1,\n",
    ")"
   ]
  },
  {
   "cell_type": "code",
   "execution_count": null,
   "metadata": {},
   "outputs": [],
   "source": [
    "df_root = df[[\"tid\", \"n_task\", \"schedulable\", \"Number of tasks\", \"Schedulable\"]]\n",
    "df_root = df_root.set_index(\"tid\")"
   ]
  },
  {
   "cell_type": "code",
   "execution_count": null,
   "metadata": {},
   "outputs": [],
   "source": [
    "df_root[\"schedulable\"].value_counts() / 6"
   ]
  },
  {
   "cell_type": "code",
   "execution_count": null,
   "metadata": {},
   "outputs": [],
   "source": [
    "df_ss = df.pivot(index=\"tid\", columns=\"oracle\", values=[\"duration_s\", \"n_visited\"])\n",
    "df_ss.columns = list(map(lambda x: \"_\".join(x), df_ss.columns))\n",
    "df_ss = df_root.join(df_ss)"
   ]
  },
  {
   "cell_type": "code",
   "execution_count": null,
   "metadata": {},
   "outputs": [],
   "source": [
    "oracle_sort_list = (\n",
    "    df.groupby(\"oracle\")[\"n_visited\"].median().sort_values().index.to_list()[::-1]\n",
    ")"
   ]
  },
  {
   "cell_type": "code",
   "execution_count": null,
   "metadata": {},
   "outputs": [],
   "source": [
    "df_comp = df.loc[df[\"oracle\"] != \"none\"].merge(\n",
    "    df.loc[df[\"oracle\"] == \"none\", [\"tid\", \"duration_s\", \"n_visited\"]],\n",
    "    on=\"tid\",\n",
    "    suffixes=(\"\", \"_none\"),\n",
    ")\n",
    "df_comp[\"n_visited_ratio\"] = df_comp[\"n_visited\"] / df_comp[\"n_visited_none\"]\n",
    "df_comp[\"duration_s_ratio\"] = df_comp[\"duration_s\"] / df_comp[\"duration_s_none\"]\n",
    "df_comp[\"n_visited_change\"] = df_comp[\"n_visited_ratio\"] - 1\n",
    "df_comp[\"duration_s_change\"] = df_comp[\"duration_s_ratio\"] - 1"
   ]
  },
  {
   "cell_type": "code",
   "execution_count": null,
   "metadata": {},
   "outputs": [],
   "source": [
    "df_comp"
   ]
  },
  {
   "cell_type": "code",
   "execution_count": null,
   "metadata": {},
   "outputs": [],
   "source": [
    "df_comp_melt = df_comp.melt(\n",
    "    id_vars=[\"tid\", \"oracle\", \"schedulable\"],\n",
    "    value_vars=[\"n_visited_change\", \"duration_s_change\"],\n",
    ")\n",
    "\n",
    "\n",
    "df_comp_melt = df_comp_melt.rename(\n",
    "    columns={\n",
    "        \"variable\": \"Dimension\",\n",
    "        \"value\": \"Relative change\",\n",
    "        \"schedulable\": \"Schedulable\",\n",
    "        \"oracle\": \"Oracle\",\n",
    "    }\n",
    ")\n",
    "\n",
    "df_comp_melt[\"Relative change\"] = df_comp_melt[\"Relative change\"] * 100\n",
    "\n",
    "metric_map = {\n",
    "    \"duration_s_change\": \"Execution time\",\n",
    "    \"n_visited_change\": \"# of visited states\",\n",
    "}\n",
    "\n",
    "df_comp_melt[\"Dimension\"] = df_comp_melt[\"Dimension\"].map(lambda x: metric_map[x])\n",
    "\n",
    "oracle_map = {\n",
    "    \"hi-idle-point\": \"HI idle point\",\n",
    "    \"over-demand\": \"Over demand\",\n",
    "    \"none\": \"None\",\n",
    "    \"negative-laxity\": \"Negative laxity\",\n",
    "    \"hi-over-demand\": \"HI over demand\",\n",
    "    \"negative-worst-laxity\": \"Negative worst laxity\",\n",
    "}\n",
    "\n",
    "df_comp_melt[\"Oracle\"] = df_comp_melt[\"Oracle\"].map(\n",
    "    lambda x: oracle_map[x] if x in oracle_map else x\n",
    ")\n",
    "\n",
    "oracle_scope = [\n",
    "    \"HI idle point\",\n",
    "    \"Over demand\",\n",
    "    \"HI over demand\",\n",
    "    \"Negative laxity\",\n",
    "    \"Negative worst laxity\",\n",
    "    #    \"Sum-min-laxity\",\n",
    "    #    \"Sum-min-worst-laxity\",\n",
    "]\n",
    "\n",
    "df_comp_melt = df_comp_melt.loc[df_comp_melt[\"Oracle\"].isin(oracle_scope)]\n",
    "\n",
    "s = df_comp_melt[\"Dimension\"] == \"Execution time\"\n",
    "df_order = (\n",
    "    df_comp_melt.loc[s]\n",
    "    .groupby([\"Oracle\", \"Schedulable\"], as_index=False)[\"Relative change\"]\n",
    "    .median()\n",
    ")\n",
    "oracles_order = (\n",
    "    df_order.loc[df_order[\"Schedulable\"]].set_index(\"Oracle\")[\"Relative change\"]\n",
    "    + df_order.loc[~df_order[\"Schedulable\"]].set_index(\"Oracle\")[\"Relative change\"]\n",
    ")\n",
    "oracles_order = oracles_order.sort_values(ascending=False).index.tolist()\n",
    "\n",
    "oracles_order = [\n",
    "    \"HI idle point\",\n",
    "    \"Negative laxity\",\n",
    "    #    \"Sum-min-laxity\",\n",
    "    \"Negative worst laxity\",\n",
    "    #    \"Sum-min-worst-laxity\",\n",
    "    \"Over demand\",\n",
    "    \"HI over demand\",\n",
    "]\n",
    "\n",
    "df_comp_melt[\"Schedulable\"] = df_comp_melt[\"Schedulable\"].map(\n",
    "    lambda x: \"Schedulable\" if x else \"Unschedulable\"\n",
    ")"
   ]
  },
  {
   "cell_type": "code",
   "execution_count": null,
   "metadata": {},
   "outputs": [],
   "source": [
    "df_comp_melt"
   ]
  },
  {
   "cell_type": "code",
   "execution_count": null,
   "metadata": {},
   "outputs": [],
   "source": [
    "def fmt_percent(x, *args):\n",
    "    return (\"+\" if x > 0 else \"\") + rf\"{x:.0f}\\%\"\n",
    "\n",
    "\n",
    "def fmt_percent_1f(x, *args):\n",
    "    return (\"+\" if x > 0 else \"\") + rf\"{x:.0f}\\%\""
   ]
  },
  {
   "cell_type": "code",
   "execution_count": null,
   "metadata": {},
   "outputs": [],
   "source": [
    "s = df_comp_melt[\"Dimension\"] == \"# of visited states\"\n",
    "df_comp_melt.loc[s, \"Dimension\"] = r\"\\# of visited states\""
   ]
  },
  {
   "cell_type": "code",
   "execution_count": null,
   "metadata": {},
   "outputs": [],
   "source": [
    "fg = sns.catplot(\n",
    "    df_comp_melt,\n",
    "    kind=\"bar\",\n",
    "    y=\"Relative change\",\n",
    "    x=\"Oracle\",\n",
    "    col=\"Dimension\",\n",
    "    hue=\"Schedulable\",\n",
    "    height=5.5129 / 2,\n",
    "    aspect=1,\n",
    "    sharex=False,\n",
    "    col_order=[r\"\\# of visited states\", \"Execution time\"],\n",
    "    errorbar=None,\n",
    "    estimator=\"median\",\n",
    "    order=oracles_order,\n",
    "    facet_kws={\"gridspec_kws\": {\"wspace\": 0.1}},\n",
    ")\n",
    "\n",
    "\n",
    "fg.set_titles(\"{col_name}\")\n",
    "\n",
    "# draw a dashed vertical line at 0 on the first plot of the face grid\n",
    "fg.axes[0, 1].axhline(0, color=\"k\", linestyle=\"--\")\n",
    "fg.axes[0, 0].axhline(0, color=\"k\", linestyle=\"--\")\n",
    "\n",
    "fg.axes[0, 0].bar_label(\n",
    "    fg.axes[0, 0].containers[0], fontsize=8, fmt=fmt_percent_1f, rotation=45\n",
    ")\n",
    "fg.axes[0, 0].bar_label(\n",
    "    fg.axes[0, 0].containers[1], fontsize=8, fmt=fmt_percent_1f, rotation=45\n",
    ")\n",
    "fg.axes[0, 1].bar_label(\n",
    "    fg.axes[0, 1].containers[0], fontsize=8, fmt=fmt_percent_1f, rotation=45\n",
    ")\n",
    "fg.axes[0, 1].bar_label(\n",
    "    fg.axes[0, 1].containers[1], fontsize=8, fmt=fmt_percent_1f, rotation=45\n",
    ")\n",
    "\n",
    "fg.axes[0, 0].yaxis.set_major_formatter(fmt_percent)\n",
    "\n",
    "fg.axes[0, 1].set_ylim(-110, 20)\n",
    "\n",
    "fg.axes[0, 0].set_xlabel(None)\n",
    "fg.axes[0, 1].set_xlabel(None)\n",
    "\n",
    "for ax in fg.axes.flat:\n",
    "    for k in range(len(ax.containers)):\n",
    "        h = ax.patches[k].get_height()\n",
    "        if h >= 0.8:\n",
    "            ax.patches[k].set_hatch(\"*\")\n",
    "            ax.patches[k].set_edgecolor(\"k\")\n",
    "\n",
    "\n",
    "sns.despine(fg.figure, bottom=True)\n",
    "\n",
    "fg.set_xticklabels(rotation=90)\n",
    "\n",
    "for ax in fg.axes.flat:\n",
    "    for i, cnt in enumerate(ax.containers):\n",
    "        for artist in cnt:\n",
    "            if i == 0:\n",
    "                artist.set_edgecolor(task_palette[0])\n",
    "                artist.set_facecolor(\"white\")\n",
    "                artist.set_hatch(\"//\")\n",
    "\n",
    "# sns.move_legend(fg, \"lower left\", bbox_to_anchor=(0.25, 1.1), ncol=2, title=None)\n",
    "\n",
    "circ1 = mpatches.Patch(\n",
    "    hatch=\"//\", label=\"Unschedulable\", edgecolor=task_palette[0], facecolor=\"white\"\n",
    ")\n",
    "circ2 = mpatches.Patch(facecolor=task_palette[1], hatch=\"\", label=\"Schedulable\")\n",
    "new_handles = [circ1, circ2]\n",
    "\n",
    "sns.move_legend(\n",
    "    fg,\n",
    "    \"lower left\",\n",
    "    bbox_to_anchor=(0.0, -0.45),\n",
    "    ncol=1,\n",
    "    title=None,\n",
    "    handles=new_handles,\n",
    ")\n",
    "\n",
    "plt.suptitle(\n",
    "    r\"$P_{\\mathsf{HI}} = 0.5, T^{\\mathsf{min}} = 5, T^{\\mathsf{max}} = 30, n = 5, U^* \\in [0.8;1;0.01]$\",\n",
    "    y=1.05,\n",
    "    x=0.46,\n",
    ")"
   ]
  },
  {
   "cell_type": "code",
   "execution_count": null,
   "metadata": {},
   "outputs": [],
   "source": [
    "fg.savefig(\n",
    "    f\"./fig_rtss/{datetime.datetime.now().strftime('%Y%m%d_%H%M%S')}_oracle.pdf\",\n",
    "    bbox_inches=\"tight\",\n",
    ")\n",
    "fg.savefig(\n",
    "    \"./fig_rtss/oracle.pdf\",\n",
    "    bbox_inches=\"tight\",\n",
    ")"
   ]
  }
 ],
 "metadata": {
  "kernelspec": {
   "display_name": "Python 3 (ipykernel)",
   "language": "python",
   "name": "python3"
  },
  "language_info": {
   "codemirror_mode": {
    "name": "ipython",
    "version": 3
   },
   "file_extension": ".py",
   "mimetype": "text/x-python",
   "name": "python",
   "nbconvert_exporter": "python",
   "pygments_lexer": "ipython3",
   "version": "3.11.9"
  },
  "vscode": {
   "interpreter": {
    "hash": "62c5e80c219e2b83cd55df7cad6caf944097e7bbdaa14d1d255be04d1b1730c1"
   }
  }
 },
 "nbformat": 4,
 "nbformat_minor": 4
}
