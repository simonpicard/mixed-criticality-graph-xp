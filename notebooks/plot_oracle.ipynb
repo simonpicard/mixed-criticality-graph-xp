{
 "cells": [
  {
   "cell_type": "code",
   "execution_count": null,
   "metadata": {},
   "outputs": [],
   "source": [
    "from datetime import datetime\n",
    "\n",
    "import matplotlib.pyplot as plt\n",
    "import seaborn as sns\n",
    "from util import prepare_df"
   ]
  },
  {
   "cell_type": "code",
   "execution_count": null,
   "metadata": {},
   "outputs": [],
   "source": [
    "df = prepare_df(\n",
    "    \"../outputs/20240214_210624_oracles_header.csv\",\n",
    "    \"../outputs/20240214_210624_oracles_explo.csv\",\n",
    ")"
   ]
  },
  {
   "cell_type": "code",
   "execution_count": null,
   "metadata": {},
   "outputs": [],
   "source": [
    "%config InlineBackend.print_figure_kwargs={'facecolor' : \"w\"}\n",
    "task_palette = sns.color_palette(\"deep\", int(df[\"n_task\"].unique().shape[0]))\n",
    "sns.set_theme(style=\"white\", palette=\"deep\", rc={\"figure.figsize\": (11.7, 8.27)})"
   ]
  },
  {
   "cell_type": "code",
   "execution_count": null,
   "metadata": {},
   "outputs": [],
   "source": [
    "df[\"Number of tasks\"] = df[\"nbt\"]\n",
    "df[\"Schedulable\"] = df[\"schedulable\"]"
   ]
  },
  {
   "cell_type": "code",
   "execution_count": null,
   "metadata": {},
   "outputs": [],
   "source": [
    "df[\"oracle\"] = df[\"safe\"].combine_first(df[\"unsafe\"])\n",
    "df[\"oracle\"] = df[\"oracle\"].fillna(\"none\")"
   ]
  },
  {
   "cell_type": "code",
   "execution_count": null,
   "metadata": {},
   "outputs": [],
   "source": [
    "df.groupby(\"tid\")[\"schedulable\"].min().value_counts()"
   ]
  },
  {
   "cell_type": "code",
   "execution_count": null,
   "metadata": {},
   "outputs": [],
   "source": [
    "print(df[\"duration_s\"].sum() / 60)\n",
    "print(df[\"duration_s\"].sum() / 3600)"
   ]
  },
  {
   "cell_type": "code",
   "execution_count": null,
   "metadata": {},
   "outputs": [],
   "source": [
    "df_root = df[\n",
    "    [\"tid\", \"n_task\", \"schedulable\", \"Number of tasks\", \"Schedulable\"]\n",
    "].drop_duplicates()\n",
    "df_root = df_root.set_index(\"tid\")"
   ]
  },
  {
   "cell_type": "code",
   "execution_count": null,
   "metadata": {},
   "outputs": [],
   "source": [
    "df_ss = df.pivot(index=\"tid\", columns=\"oracle\", values=[\"duration_s\", \"n_visited\"])\n",
    "df_ss.columns = list(map(lambda x: \"_\".join(x), df_ss.columns))\n",
    "df_ss = df_root.join(df_ss)"
   ]
  },
  {
   "cell_type": "code",
   "execution_count": null,
   "metadata": {},
   "outputs": [],
   "source": [
    "oracle_sort_list = (\n",
    "    df.groupby(\"oracle\")[\"n_visited\"].median().sort_values().index.to_list()[::-1]\n",
    ")"
   ]
  },
  {
   "cell_type": "code",
   "execution_count": null,
   "metadata": {},
   "outputs": [],
   "source": [
    "g = sns.boxplot(\n",
    "    data=df,\n",
    "    y=\"n_visited\",\n",
    "    x=\"n_task\",\n",
    "    hue=\"oracle\",\n",
    "    hue_order=df.groupby(\"oracle\")[\"n_visited\"]\n",
    "    .median()\n",
    "    .sort_values()\n",
    "    .index.to_list()[::-1],\n",
    ")\n",
    "g.set_yscale(\"log\")\n",
    "plt.show()"
   ]
  },
  {
   "cell_type": "code",
   "execution_count": null,
   "metadata": {},
   "outputs": [],
   "source": [
    "g = sns.boxplot(\n",
    "    data=df,\n",
    "    y=\"duration_s\",\n",
    "    x=\"n_task\",\n",
    "    hue=\"oracle\",\n",
    "    hue_order=df.groupby(\"oracle\")[\"duration_s\"]\n",
    "    .median()\n",
    "    .sort_values()\n",
    "    .index.to_list()[::-1],\n",
    ")\n",
    "g.set_yscale(\"log\")\n",
    "plt.show()"
   ]
  },
  {
   "cell_type": "code",
   "execution_count": null,
   "metadata": {},
   "outputs": [],
   "source": [
    "df_comp = df.loc[df[\"oracle\"] != \"none\"].merge(\n",
    "    df.loc[df[\"oracle\"] == \"none\", [\"tid\", \"duration_s\", \"n_visited\"]],\n",
    "    on=\"tid\",\n",
    "    suffixes=(\"\", \"_none\"),\n",
    ")\n",
    "df_comp[\"n_visited_ratio\"] = df_comp[\"n_visited\"] / df_comp[\"n_visited_none\"]\n",
    "df_comp[\"duration_s_ratio\"] = df_comp[\"duration_s\"] / df_comp[\"duration_s_none\"]\n",
    "df_comp[\"n_visited_change\"] = df_comp[\"n_visited_ratio\"] - 1\n",
    "df_comp[\"duration_s_change\"] = df_comp[\"duration_s_ratio\"] - 1"
   ]
  },
  {
   "cell_type": "code",
   "execution_count": null,
   "metadata": {},
   "outputs": [],
   "source": [
    "df_comp_melt = df_comp.melt(\n",
    "    id_vars=[\"tid\", \"oracle\", \"schedulable\"],\n",
    "    value_vars=[\"n_visited_change\", \"duration_s_change\"],\n",
    ")\n",
    "\n",
    "\n",
    "df_comp_melt = df_comp_melt.rename(\n",
    "    columns={\n",
    "        \"variable\": \"Dimension\",\n",
    "        \"value\": \"Relative change\",\n",
    "        \"schedulable\": \"Schedulable\",\n",
    "        \"oracle\": \"Oracle\",\n",
    "    }\n",
    ")\n",
    "\n",
    "df_comp_melt[\"Relative change\"] = df_comp_melt[\"Relative change\"] * 100\n",
    "\n",
    "metric_map = {\n",
    "    \"duration_s_change\": \"Execution time (s)\",\n",
    "    \"n_visited_change\": \"Number of visited states before halt\",\n",
    "}\n",
    "\n",
    "df_comp_melt[\"Dimension\"] = df_comp_melt[\"Dimension\"].map(lambda x: metric_map[x])\n",
    "\n",
    "oracle_map = {\n",
    "    \"all_idle_hi\": \"All idle HI\",\n",
    "    \"all_interference\": \"All interference\",\n",
    "    \"interference\": \"Interference\",\n",
    "    \"none\": \"None\",\n",
    "    \"laxity\": \"Laxity\",\n",
    "    \"hi_interference\": \"HI-Interference\",\n",
    "    \"worst_interference\": \"HI-Interference\",\n",
    "    \"worst_laxity\": \"Worst Laxity\",\n",
    "}\n",
    "\n",
    "df_comp_melt[\"Oracle\"] = df_comp_melt[\"Oracle\"].map(lambda x: oracle_map[x])"
   ]
  },
  {
   "cell_type": "code",
   "execution_count": null,
   "metadata": {},
   "outputs": [],
   "source": [
    "fg = sns.catplot(\n",
    "    df_comp_melt,\n",
    "    kind=\"box\",\n",
    "    x=\"Relative change\",\n",
    "    y=\"Oracle\",\n",
    "    col=\"Dimension\",\n",
    "    hue=\"Schedulable\",\n",
    "    height=5.5129,\n",
    "    aspect=1,\n",
    "    sharex=False,\n",
    "    col_order=[\"Number of visited states before halt\", \"Execution time (s)\"],\n",
    "    showfliers=False,\n",
    ")"
   ]
  },
  {
   "cell_type": "code",
   "execution_count": null,
   "metadata": {},
   "outputs": [],
   "source": [
    "import matplotlib.ticker as mtick"
   ]
  },
  {
   "cell_type": "code",
   "execution_count": null,
   "metadata": {},
   "outputs": [],
   "source": [
    "order = [\n",
    "    \"All idle HI\",\n",
    "    \"Laxity\",\n",
    "    \"Interference\",\n",
    "    \"Worst Laxity\",\n",
    "    \"All interference\",\n",
    "    \"HI-Interference\",\n",
    "]\n",
    "\n",
    "fg = sns.catplot(\n",
    "    df_comp_melt,\n",
    "    kind=\"bar\",\n",
    "    y=\"Relative change\",\n",
    "    x=\"Oracle\",\n",
    "    col=\"Dimension\",\n",
    "    hue=\"Schedulable\",\n",
    "    height=5.5129,\n",
    "    aspect=1,\n",
    "    sharex=False,\n",
    "    col_order=[\"Number of visited states before halt\", \"Execution time (s)\"],\n",
    "    errorbar=None,\n",
    "    estimator=\"median\",\n",
    "    order=order,\n",
    ")\n",
    "\n",
    "\n",
    "fg.set_titles(\"{col_name}\")\n",
    "\n",
    "# draw a dashed vertical line at 0 on the first plot of the face grid\n",
    "fg.axes[0, 1].axhline(0, color=\"k\", linestyle=\"--\")\n",
    "fg.axes[0, 0].axhline(0, color=\"k\", linestyle=\"--\")\n",
    "\n",
    "fmt_f = lambda x: (\"+\" if x > 0 else \"\") + f\"{x:.1f}%\"\n",
    "\n",
    "fg.axes[0, 0].bar_label(fg.axes[0, 0].containers[0], fontsize=8, fmt=fmt_f)\n",
    "fg.axes[0, 0].bar_label(fg.axes[0, 0].containers[1], fontsize=8, fmt=fmt_f)\n",
    "fg.axes[0, 1].bar_label(fg.axes[0, 1].containers[0], fontsize=8, fmt=fmt_f)\n",
    "fg.axes[0, 1].bar_label(fg.axes[0, 1].containers[1], fontsize=8, fmt=fmt_f)\n",
    "\n",
    "fg.axes[0, 0].yaxis.set_major_formatter(mtick.PercentFormatter(xmax=100))\n",
    "\n",
    "\n",
    "sns.despine(fg.figure, bottom=True)\n",
    "\n",
    "fg.set_xticklabels(rotation=30)\n",
    "\n",
    "fg.savefig(\n",
    "    f\"{datetime.now().strftime('%Y%m%d_%H%M%S')}_oracle.pdf\", bbox_inches=\"tight\"\n",
    ")"
   ]
  },
  {
   "cell_type": "code",
   "execution_count": null,
   "metadata": {},
   "outputs": [],
   "source": [
    "fg = sns.displot(\n",
    "    df_comp_melt,\n",
    "    # kind=\"kde\",\n",
    "    x=\"Relative change\",\n",
    "    row=\"Oracle\",\n",
    "    col=\"Dimension\",\n",
    "    hue=\"Schedulable\",\n",
    "    height=2,\n",
    "    aspect=3,\n",
    "    col_order=[\"Number of visited states before halt\", \"Execution time (s)\"],\n",
    "    facet_kws=dict(sharey=False, xlim=(-105, 25)),\n",
    ")"
   ]
  }
 ],
 "metadata": {
  "kernelspec": {
   "display_name": "base",
   "language": "python",
   "name": "python3"
  },
  "language_info": {
   "codemirror_mode": {
    "name": "ipython",
    "version": 3
   },
   "file_extension": ".py",
   "mimetype": "text/x-python",
   "name": "python",
   "nbconvert_exporter": "python",
   "pygments_lexer": "ipython3",
   "version": "3.9.12"
  },
  "orig_nbformat": 4,
  "vscode": {
   "interpreter": {
    "hash": "62c5e80c219e2b83cd55df7cad6caf944097e7bbdaa14d1d255be04d1b1730c1"
   }
  }
 },
 "nbformat": 4,
 "nbformat_minor": 2
}
