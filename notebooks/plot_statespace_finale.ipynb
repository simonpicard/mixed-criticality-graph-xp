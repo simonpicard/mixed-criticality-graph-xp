{
 "cells": [
  {
   "cell_type": "code",
   "execution_count": null,
   "metadata": {},
   "outputs": [],
   "source": [
    "from datetime import datetime\n",
    "\n",
    "import matplotlib.pyplot as plt\n",
    "import numpy as np\n",
    "import seaborn as sns\n",
    "from util import prepare_df"
   ]
  },
  {
   "cell_type": "code",
   "execution_count": null,
   "metadata": {},
   "outputs": [],
   "source": [
    "%config InlineBackend.print_figure_kwargs={'facecolor' : \"w\"}\n",
    "sns.set()\n",
    "sns.set(rc={\"figure.figsize\": (11.7, 8.27)})"
   ]
  },
  {
   "cell_type": "code",
   "execution_count": null,
   "metadata": {},
   "outputs": [],
   "source": [
    "df = prepare_df(xp_identifier=\"ac_hi_od_hi_idle\")"
   ]
  },
  {
   "cell_type": "code",
   "execution_count": null,
   "metadata": {},
   "outputs": [],
   "source": [
    "task_palette = sns.color_palette(\"deep\", int(df[\"n_task\"].unique().shape[0]))\n",
    "sns.set_theme(style=\"whitegrid\", palette=\"deep\")"
   ]
  },
  {
   "cell_type": "code",
   "execution_count": null,
   "metadata": {},
   "outputs": [],
   "source": [
    "scope = df[\"search_type\"] == \"BFS\"\n",
    "scope &= df[\"unsafe\"].isna()\n",
    "df_ref = df.loc[scope, [\"tid\", \"duration_s\", \"n_visited\"]].rename(\n",
    "    columns={\"duration_s\": \"duration_s_ref\", \"n_visited\": \"n_visited_ref\"}\n",
    ")\n",
    "df = df.merge(df_ref, on=\"tid\")"
   ]
  },
  {
   "cell_type": "code",
   "execution_count": null,
   "metadata": {},
   "outputs": [],
   "source": [
    "df[\"n_visited_norm\"] = df[\"n_visited\"]\n",
    "df[\"duration_s_norm\"] = df[\"duration_s\"]\n",
    "\n",
    "df.loc[~scope, \"n_visited_norm\"] = (\n",
    "    df.loc[~scope, \"n_visited\"] / df.loc[~scope, \"n_visited_ref\"] - 1\n",
    ") * 100\n",
    "df.loc[~scope, \"duration_s_norm\"] = (\n",
    "    df.loc[~scope, \"duration_s\"] / df.loc[~scope, \"duration_s_ref\"] - 1\n",
    ") * 100"
   ]
  },
  {
   "cell_type": "code",
   "execution_count": null,
   "metadata": {},
   "outputs": [],
   "source": [
    "import pandas as pd\n",
    "\n",
    "pd.set_option(\"display.float_format\", lambda x: \"%.4f\" % x)"
   ]
  },
  {
   "cell_type": "code",
   "execution_count": null,
   "metadata": {},
   "outputs": [],
   "source": [
    "df"
   ]
  },
  {
   "cell_type": "code",
   "execution_count": null,
   "metadata": {},
   "outputs": [],
   "source": [
    "df[\"Search\"] = df[\"search_type\"]\n",
    "df[\"Oracle\"] = df[\"unsafe\"].apply(\n",
    "    lambda x: \"HI over demand\" if x == \"hi_interference\" else \"None\"\n",
    ")"
   ]
  },
  {
   "cell_type": "code",
   "execution_count": null,
   "metadata": {},
   "outputs": [],
   "source": [
    "dfagg = (\n",
    "    df.groupby([\"Search\", \"Oracle\"], dropna=False)[\n",
    "        [\"n_visited_norm\", \"duration_s_norm\"]\n",
    "    ]\n",
    "    .agg([\"min\", \"mean\", \"std\", \"median\", \"max\"])\n",
    "    .apply(lambda x: round(x, 2))\n",
    "    .applymap(str)\n",
    ")"
   ]
  },
  {
   "cell_type": "code",
   "execution_count": null,
   "metadata": {},
   "outputs": [],
   "source": [
    "dfagg.columns = dfagg.columns.set_levels(\n",
    "    [\"Number of visited states before halt\", \"Execution time\"], level=0\n",
    ")"
   ]
  },
  {
   "cell_type": "code",
   "execution_count": null,
   "metadata": {},
   "outputs": [],
   "source": [
    "dfagg = dfagg.reindex([\"BFS\", \"ACBFS\"], level=0)\n",
    "dfagg = dfagg.reindex([\"None\", \"HI over demand\"], level=1)"
   ]
  },
  {
   "cell_type": "code",
   "execution_count": null,
   "metadata": {},
   "outputs": [],
   "source": [
    "dfagg.iloc[1:] = \" (\" + dfagg.iloc[1:] + \"\\%)\""
   ]
  },
  {
   "cell_type": "code",
   "execution_count": null,
   "metadata": {},
   "outputs": [],
   "source": [
    "dfagg[\"Number of visited states before halt\"].T"
   ]
  },
  {
   "cell_type": "code",
   "execution_count": null,
   "metadata": {},
   "outputs": [],
   "source": [
    "print(dfagg[\"Number of visited states before halt\"].T.to_latex())"
   ]
  },
  {
   "cell_type": "code",
   "execution_count": null,
   "metadata": {},
   "outputs": [],
   "source": [
    "dfagg2_int = (\n",
    "    df.groupby([\"Search\", \"Oracle\"], dropna=False)[[\"n_visited\"]]\n",
    "    .agg([\"min\", \"mean\", \"std\", \"median\", \"max\"])\n",
    "    .applymap(lambda x: round(x))\n",
    ")\n",
    "\n",
    "dfagg2_int = dfagg2_int.reindex([\"BFS\", \"ACBFS\"], level=0)\n",
    "dfagg2_int = dfagg2_int.reindex([\"None\", \"HI over demand\"], level=1)\n",
    "\n",
    "dfagg2_int = dfagg2_int.T\n",
    "\n",
    "dfagg2 = dfagg2_int.applymap(str)\n",
    "\n",
    "\n",
    "dfagg2"
   ]
  },
  {
   "cell_type": "code",
   "execution_count": null,
   "metadata": {},
   "outputs": [],
   "source": [
    "r = dfagg2_int.iloc[:, 0]\n",
    "for i in range(3):\n",
    "    dfagg2_int.iloc[:, 1 + i] /= r\n",
    "    dfagg2_int.iloc[:, 1 + i] -= 1"
   ]
  },
  {
   "cell_type": "code",
   "execution_count": null,
   "metadata": {},
   "outputs": [],
   "source": [
    "(dfagg2_int * 100).applymap(lambda x: round(x))"
   ]
  }
 ],
 "metadata": {
  "kernelspec": {
   "display_name": "Python 3 (ipykernel)",
   "language": "python",
   "name": "python3"
  },
  "language_info": {
   "codemirror_mode": {
    "name": "ipython",
    "version": 3
   },
   "file_extension": ".py",
   "mimetype": "text/x-python",
   "name": "python",
   "nbconvert_exporter": "python",
   "pygments_lexer": "ipython3",
   "version": "3.11.6"
  },
  "vscode": {
   "interpreter": {
    "hash": "62c5e80c219e2b83cd55df7cad6caf944097e7bbdaa14d1d255be04d1b1730c1"
   }
  }
 },
 "nbformat": 4,
 "nbformat_minor": 4
}
