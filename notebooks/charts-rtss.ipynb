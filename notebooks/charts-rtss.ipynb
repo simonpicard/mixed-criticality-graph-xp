{
 "cells": [
  {
   "cell_type": "code",
   "execution_count": null,
   "id": "5b7aad9e",
   "metadata": {},
   "outputs": [],
   "source": [
    "import pandas as pd"
   ]
  },
  {
   "cell_type": "code",
   "execution_count": null,
   "id": "4c8a5051",
   "metadata": {},
   "outputs": [],
   "source": [
    "import seaborn as sns"
   ]
  },
  {
   "cell_type": "code",
   "execution_count": null,
   "id": "fda8908d-0052-4a8e-a6ae-2535121b9c6b",
   "metadata": {},
   "outputs": [],
   "source": [
    "path = \"/tmp/results2.csv\"\n",
    "path = \"results-ntasks-laptop.csv\"\n",
    "path = \"results-periods-laptop.csv\""
   ]
  },
  {
   "cell_type": "code",
   "execution_count": null,
   "id": "0f7b6a43",
   "metadata": {},
   "outputs": [],
   "source": [
    "df = pd.read_csv(path, sep=\";\")"
   ]
  },
  {
   "cell_type": "code",
   "execution_count": null,
   "id": "c9bf80c3-6fca-49fa-87af-1574402c297c",
   "metadata": {},
   "outputs": [],
   "source": [
    "df"
   ]
  },
  {
   "cell_type": "code",
   "execution_count": null,
   "id": "b289fc0e-e692-4ce6-9ed0-a775cf099133",
   "metadata": {},
   "outputs": [],
   "source": [
    "df.groupby([\"nbt\", \"use_case\"])[\"U\"].count()"
   ]
  },
  {
   "cell_type": "code",
   "execution_count": null,
   "id": "91380b7c-00a2-4019-a623-44d797c67ec6",
   "metadata": {},
   "outputs": [],
   "source": [
    "df[\"duration_s\"] = df[\"duration_ns\"] / 1e9"
   ]
  },
  {
   "cell_type": "code",
   "execution_count": null,
   "id": "70854b3e-3d9b-45c6-a866-456a8e11d942",
   "metadata": {},
   "outputs": [],
   "source": [
    "x = \"U\"\n",
    "x = \"nbt\"\n",
    "x = \"max_period\""
   ]
  },
  {
   "cell_type": "code",
   "execution_count": null,
   "id": "b93287ae-670d-4df0-ac71-4c336b73b99e",
   "metadata": {},
   "outputs": [],
   "source": [
    "g = sns.scatterplot(data=df, x=x, y=\"duration_s\", hue=\"use_case\")"
   ]
  },
  {
   "cell_type": "code",
   "execution_count": null,
   "id": "2d24ee89-257a-4286-b732-364bf051f89f",
   "metadata": {},
   "outputs": [],
   "source": [
    "g = sns.lineplot(data=df, x=x, y=\"duration_s\", hue=\"use_case\")\n",
    "# g.set(yscale='log')"
   ]
  },
  {
   "cell_type": "code",
   "execution_count": null,
   "id": "3c5ac2a7-8943-4efe-a5cf-fe06151e0dbc",
   "metadata": {},
   "outputs": [],
   "source": [
    "g = sns.lineplot(data=df, x=x, y=\"visited_count\", hue=\"use_case\")\n",
    "g.set(yscale='log')"
   ]
  },
  {
   "cell_type": "code",
   "execution_count": null,
   "id": "ba44d38f-9f91-4673-a525-3ce9a631e8f1",
   "metadata": {},
   "outputs": [],
   "source": []
  }
 ],
 "metadata": {
  "kernelspec": {
   "display_name": "Python 3 (ipykernel)",
   "language": "python",
   "name": "python3"
  },
  "language_info": {
   "codemirror_mode": {
    "name": "ipython",
    "version": 3
   },
   "file_extension": ".py",
   "mimetype": "text/x-python",
   "name": "python",
   "nbconvert_exporter": "python",
   "pygments_lexer": "ipython3",
   "version": "3.10.12"
  }
 },
 "nbformat": 4,
 "nbformat_minor": 5
}
