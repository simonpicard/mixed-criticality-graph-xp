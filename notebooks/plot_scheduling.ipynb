{
 "cells": [
  {
   "cell_type": "code",
   "execution_count": null,
   "metadata": {},
   "outputs": [],
   "source": [
    "from datetime import datetime\n",
    "\n",
    "import matplotlib.pyplot as plt\n",
    "import pandas as pd\n",
    "import seaborn as sns\n",
    "from util import prepare_df"
   ]
  },
  {
   "cell_type": "code",
   "execution_count": null,
   "metadata": {},
   "outputs": [],
   "source": [
    "df1 = prepare_df(xp_identifier=\"scheduling1\")\n",
    "df2 = prepare_df(xp_identifier=\"scheduling2\")"
   ]
  },
  {
   "cell_type": "code",
   "execution_count": null,
   "metadata": {},
   "outputs": [],
   "source": [
    "df1[\"xp\"] = \"wide\"\n",
    "df2[\"xp\"] = \"narrow\"\n",
    "df2[\"tid\"] += df1[\"tid\"].max() + 1\n",
    "df = pd.concat([df1, df2], ignore_index=True)"
   ]
  },
  {
   "cell_type": "code",
   "execution_count": null,
   "metadata": {},
   "outputs": [],
   "source": [
    "%config InlineBackend.print_figure_kwargs={'facecolor' : \"w\"}\n",
    "sns.set_theme(style=\"whitegrid\", palette=\"deep\")"
   ]
  },
  {
   "cell_type": "code",
   "execution_count": null,
   "metadata": {},
   "outputs": [],
   "source": [
    "s = df[\"scheduler\"] == df[\"scheduler\"].iloc[0]\n",
    "df_common = df.loc[s, [\"tid\", \"EDFVD_test\", \"U\", \"xp\"]].set_index(\"tid\")"
   ]
  },
  {
   "cell_type": "code",
   "execution_count": null,
   "metadata": {},
   "outputs": [],
   "source": [
    "df_res = df.pivot(index=\"tid\", columns=\"scheduler\", values=\"schedulable\")\n",
    "df_res = df_res.join(df_common)"
   ]
  },
  {
   "cell_type": "code",
   "execution_count": null,
   "metadata": {},
   "outputs": [],
   "source": [
    "df_melt = df_res.melt(\n",
    "    id_vars=[\"U\", \"xp\"],\n",
    "    value_vars=[\"EDF-VD\", \"LWLF\", \"EDFVD_test\"],\n",
    "    value_name=\"Schedulable\",\n",
    ")"
   ]
  },
  {
   "cell_type": "code",
   "execution_count": null,
   "metadata": {},
   "outputs": [],
   "source": [
    "f, axs = plt.subplots(1, 2, figsize=(12, 5.5129), sharey=True)\n",
    "\n",
    "ax_wide = axs[0]\n",
    "ax_narrow = axs[1]\n",
    "\n",
    "s = df_melt[\"xp\"] == \"wide\"\n",
    "sns.lineplot(\n",
    "    data=df_melt.loc[s],\n",
    "    x=\"U\",\n",
    "    y=\"Schedulable\",\n",
    "    hue=\"variable\",\n",
    "    errorbar=None,\n",
    "    ax=ax_wide,\n",
    ")\n",
    "\n",
    "s = df_melt[\"xp\"] == \"narrow\"\n",
    "sns.lineplot(\n",
    "    data=df_melt.loc[s],\n",
    "    x=\"U\",\n",
    "    y=\"Schedulable\",\n",
    "    hue=\"variable\",\n",
    "    errorbar=None,\n",
    "    ax=ax_narrow,\n",
    ")\n",
    "\n",
    "ax_wide.set_ylabel(\"Acceptance ratio\")\n",
    "ax_wide.set_xlabel(\"Average utilisation\")\n",
    "ax_narrow.set_xlabel(\"Average utilisation\")\n",
    "\n",
    "f.savefig(\n",
    "    f\"./{datetime.now().strftime('%Y%m%d_%H%M%S')}_scheduling.pdf\", bbox_inches=\"tight\"\n",
    ")"
   ]
  },
  {
   "cell_type": "code",
   "execution_count": null,
   "metadata": {},
   "outputs": [],
   "source": []
  }
 ],
 "metadata": {
  "kernelspec": {
   "display_name": "Python 3 (ipykernel)",
   "language": "python",
   "name": "python3"
  },
  "language_info": {
   "codemirror_mode": {
    "name": "ipython",
    "version": 3
   },
   "file_extension": ".py",
   "mimetype": "text/x-python",
   "name": "python",
   "nbconvert_exporter": "python",
   "pygments_lexer": "ipython3",
   "version": "3.9.12"
  },
  "vscode": {
   "interpreter": {
    "hash": "62c5e80c219e2b83cd55df7cad6caf944097e7bbdaa14d1d255be04d1b1730c1"
   }
  }
 },
 "nbformat": 4,
 "nbformat_minor": 4
}
